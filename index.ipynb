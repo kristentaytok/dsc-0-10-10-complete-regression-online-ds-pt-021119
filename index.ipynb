{
 "cells": [
  {
   "cell_type": "markdown",
   "metadata": {},
   "source": [
    "# Regression Lab\n",
    "\n",
    "Now have all the necessary functions to calculate the slope, intercept, best-fit line, prediction and visualizations. In this lab you will put them all together to run a regression experiment and calculate model loss. \n",
    "\n",
    "## SWBAT\n",
    "\n",
    "* Run a complete regression analysis through code only. "
   ]
  },
  {
   "cell_type": "markdown",
   "metadata": {},
   "source": [
    "## Here are all the formulas to put everything in perspective\n",
    "\n",
    "#### Slope\n",
    "<img src=\"m.png\" width = 300>\n",
    "\n",
    "#### Intercept \n",
    "<img src=\"b.png\" width = 200>\n",
    "\n",
    "#### R-squared\n",
    "<img src=\"r2.png\" width = 400>\n",
    "\n",
    "#### Prediction\n",
    "![](pred.jpg)\n",
    "\n",
    "\n",
    "Use the functions created earlier to implement these formulas to run a regression analysis using X and Y as input variables. "
   ]
  },
  {
   "cell_type": "code",
   "execution_count": 29,
   "metadata": {},
   "outputs": [
    {
     "name": "stdout",
     "output_type": "stream",
     "text": [
      "Basic Regression Diagnostics\n",
      "----------------------------\n",
      "Slope: 0.56\n",
      "Y-Intercept: 6.33\n",
      "R-Squared: 0.97\n",
      "----------------------------\n",
      "Model: Y = 0.56 * X + 6.33\n"
     ]
    },
    {
     "data": {
      "image/png": "[encoded data removed]",
      "text/plain": [
       "<Figure size 432x288 with 1 Axes>"
      ]
     },
     "metadata": {},
     "output_type": "display_data"
    }
   ],
   "source": [
    "\n",
    "# Combine all the functions created so far to run a complete regression experiment. \n",
    "# Produce an output similar to the one shown below. \n",
    "import numpy as np\n",
    "import matplotlib.pyplot as plt\n",
    "from matplotlib import style\n",
    "style.use('ggplot')\n",
    "\n",
    "\n",
    "def calc_slope(xs,ys):\n",
    "\n",
    "    m = (((np.mean(xs)*np.mean(ys)) - np.mean(xs*ys)) /\n",
    "         ((np.mean(xs)**2) - np.mean(xs*xs)))\n",
    "    \n",
    "    return m\n",
    "\n",
    "def best_fit(xs,ys):\n",
    "\n",
    "    m = calc_slope(xs,ys)\n",
    "    b = np.mean(ys) - m*np.mean(xs)\n",
    "    \n",
    "    return m, b\n",
    "\n",
    "def reg_line (m, b, X):\n",
    "    \n",
    "    return [(m*x)+b for x in X]\n",
    "\n",
    "def sum_sq_err(ys_real,ys_predicted):\n",
    "\n",
    "    sse =  sum((ys_predicted - ys_real) * (ys_predicted - ys_real))\n",
    "    \n",
    "    return sse\n",
    "\n",
    "def r_squared(ys_real, ys_predicted):\n",
    "    y_mean = [np.mean(ys_real) for y in ys_real]\n",
    "\n",
    "    sq_err_reg= sum_sq_err(ys_real, ys_predicted)\n",
    "    sq_err_y_mean = sum_sq_err(ys_real, y_mean)\n",
    "    r_sq =  1 - (sq_err_reg/sq_err_y_mean)\n",
    "    \n",
    "    return r_sq\n",
    "\n",
    "X = np.array([1,2,3,4,5,6,7,8,9,10], dtype=np.float64)\n",
    "Y = np.array([7,7,8,9,9,10,10,11,11,12], dtype=np.float64)\n",
    "\n",
    "def plot_reg(X,Y,Y_pred):\n",
    "    plt.scatter(X,Y)\n",
    "    plt.plot(X, Y_pred, label='regression line')\n",
    "    plt.legend(loc=4)\n",
    "    plt.show()\n",
    "    return None\n",
    "\n",
    "m, b = best_fit(X,Y)\n",
    "Y_pred = reg_line(m, b, X)\n",
    "r_squared = r_squared(Y,Y_pred)\n",
    "\n",
    "print ('Basic Regression Diagnostics')\n",
    "print ('----------------------------')\n",
    "print ('Slope:', round(m,2))\n",
    "print ('Y-Intercept:', round(b,2))\n",
    "print ('R-Squared:', round(r_squared,2))\n",
    "print ('----------------------------')\n",
    "print ('Model: Y =',round(m,2),'* X +', round(b,2))\n",
    "\n",
    "plot_reg(X,Y,Y_pred)\n",
    "       "
   ]
  },
  {
   "cell_type": "code",
   "execution_count": 7,
   "metadata": {},
   "outputs": [],
   "source": [
    "# Basic Regression Diagnostics\n",
    "# ----------------------------\n",
    "# Slope: 0.56\n",
    "# Y-Intercept: 6.33\n",
    "# R-Squared: 0.97\n",
    "# ----------------------------\n",
    "# Model: Y = 0.56 * X + 6.33"
   ]
  },
  {
   "cell_type": "markdown",
   "metadata": {},
   "source": [
    "## Make Predictions\n",
    "\n",
    "Predict and plot the value of y using regression line above for a new value of x = 4.5."
   ]
  },
  {
   "cell_type": "code",
   "execution_count": 36,
   "metadata": {},
   "outputs": [
    {
     "data": {
      "text/plain": [
       "8.842424242424244"
      ]
     },
     "execution_count": 36,
     "metadata": {},
     "output_type": "execute_result"
    }
   ],
   "source": [
    "# Make prediction using given value and visualize on the scatter plot\n",
    "x_new = 4.5\n",
    "Y_pred_new = (m*x_new)+b\n",
    "Y_pred_new"
   ]
  },
  {
   "cell_type": "code",
   "execution_count": 37,
   "metadata": {},
   "outputs": [
    {
     "data": {
      "image/png": "[encoded data removed]",
      "text/plain": [
       "<Figure size 432x288 with 1 Axes>"
      ]
     },
     "metadata": {},
     "output_type": "display_data"
    }
   ],
   "source": [
    "plt.scatter(X,Y,color='#000F72',label='data')\n",
    "plt.plot(X, Y_pred, color='#880000', label='regression line')\n",
    "plt.scatter(x_new,Y_pred_new,color='r',label='Prediction: '+ str(np.round(Y_pred_new,1)))\n",
    "plt.legend(loc=4)\n",
    "plt.show()"
   ]
  },
  {
   "cell_type": "markdown",
   "metadata": {},
   "source": [
    "## Level up - Optional \n",
    "Load the \"heightWeight.csv\" dataset. Use the height as an independant and weight as a dependant variable and draw a regression line to data using your code above. Calculate your R-square for the model and try to predict new values of Y. "
   ]
  },
  {
   "cell_type": "markdown",
   "metadata": {},
   "source": [
    "## Summary\n",
    "\n",
    "In this lab, we ran a complete simple regression analysis experiment using functions created so far. Next We shall see how we can use python's built in modules to perform such analyses with a much higher level of sophistication. "
   ]
  },
  {
   "cell_type": "code",
   "execution_count": null,
   "metadata": {},
   "outputs": [],
   "source": []
  }
 ],
 "metadata": {
  "kernelspec": {
   "display_name": "Python 3",
   "language": "python",
   "name": "python3"
  },
  "language_info": {
   "codemirror_mode": {
    "name": "ipython",
    "version": 3
   },
   "file_extension": ".py",
   "mimetype": "text/x-python",
   "name": "python",
   "nbconvert_exporter": "python",
   "pygments_lexer": "ipython3",
   "version": "3.6.6"
  }
 },
 "nbformat": 4,
 "nbformat_minor": 2
}
